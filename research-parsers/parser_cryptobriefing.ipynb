{
 "cells": [
  {
   "cell_type": "code",
   "execution_count": null,
   "id": "35c73f0f",
   "metadata": {},
   "outputs": [],
   "source": [
    "%pip install selenium\n",
    "%pip install beautifulsoup4\n",
    "%pip install pandas"
   ]
  },
  {
   "cell_type": "code",
   "execution_count": null,
   "id": "2dcdf009",
   "metadata": {},
   "outputs": [],
   "source": [
    "from selenium import webdriver\n",
    "from datetime import timedelta, datetime\n",
    "from bs4 import BeautifulSoup\n",
    "import pandas as pd\n",
    "from selenium.webdriver.common.by import By\n",
    "import time\n",
    "from selenium.webdriver.common.action_chains import ActionChains \n",
    "import re"
   ]
  },
  {
   "cell_type": "markdown",
   "id": "4336b790",
   "metadata": {},
   "source": [
    "# Парсинг данных"
   ]
  },
  {
   "cell_type": "code",
   "execution_count": null,
   "id": "ae02e4b9",
   "metadata": {},
   "outputs": [],
   "source": [
    "driver = webdriver.Chrome()\n",
    "driver.get('https://cryptobriefing.com/news/')\n",
    "\n",
    "data = []\n",
    "\n",
    "while True:\n",
    "    html = driver.page_source\n",
    "    soup = BeautifulSoup(html)\n",
    "\n",
    "    containers = soup.find_all(\"li\",attrs={\"class\":\"main-news-item\"})\n",
    "\n",
    "    for i, d in enumerate(containers):\n",
    "        #print(f\"Analyzing containers. i = {i}\")\n",
    "        if i < len(data) - 1:\n",
    "            continue\n",
    "        d = d.find('section')\n",
    "        d = d.find('div', {'class': \"main-news-info\"})\n",
    "\n",
    "        header = d.find(\"h2\", {\"class\": \"main-news-title\"})\n",
    "        header = header.find(\"a\", {\"class\": \"main-news-link\"})\n",
    "        if header is None:\n",
    "            header_text = \"NOT FOUND\"\n",
    "            href = \"NOT FOUND\"\n",
    "            #category = \"NOT FOUND\"\n",
    "        else:\n",
    "            header_text = header['aria-label'].strip()\n",
    "            href = header['href'].strip()\n",
    "            #category = header.text.strip()\n",
    "        \n",
    "        meta = d.find(\"p\", {\"class\": \"main-news-meta\"})\n",
    "        time_meta = meta.find(\"time\")\n",
    "        meta = meta.find(\"a\", {\"class\": \"main-news-category-link\"})\n",
    "\n",
    "        if meta is None:\n",
    "            category = \"NOT FOUND\"\n",
    "            dttime = \"NOT FOUND\"\n",
    "        else:\n",
    "            category = meta.text.strip()\n",
    "\n",
    "        if time_meta is None:\n",
    "            dttime = \"NOT FOUND\"\n",
    "        else:\n",
    "            dttime = time_meta['datetime']\n",
    "            if dttime is None:\n",
    "                dttime = time_meta['title']\n",
    "\n",
    "        msg = d.find(\"p\", {\"class\": \"main-news-message\"})\n",
    "        if msg is None:\n",
    "            brief = \"NOT FOUND\"\n",
    "        else:\n",
    "            brief = msg.text.strip()\n",
    "\n",
    "        print(i, header_text, dttime, href, category, brief)\n",
    "        data.append((header_text, dttime, href, category, brief)) \n",
    "\n",
    "        #data.append((header, timedata, ref))\n",
    "        #print(f\"Found header: {header}, date: {timedata}, ref: {ref}\")\n",
    "\n",
    "    button = driver.find_element(By.XPATH, '/html/body/main/div/div/div/section/div/a')\n",
    "    location = button.location\n",
    "    size = button.size\n",
    "    w, h = size['width'], size['height']\n",
    "    driver.execute_script(f\"window.scrollTo(0, {h});\")\n",
    "    driver.execute_script(\"arguments[0].click();\", button)\n",
    "    time.sleep(1)\n"
   ]
  },
  {
   "cell_type": "code",
   "execution_count": null,
   "id": "d03546c3",
   "metadata": {},
   "outputs": [],
   "source": [
    "df = pd.DataFrame(data, columns = ['header', 'date', 'link', 'category', 'brief'])\n",
    "df = df.drop_duplicates()\n",
    "df.tail()"
   ]
  },
  {
   "cell_type": "code",
   "execution_count": null,
   "id": "ab5972f7",
   "metadata": {},
   "outputs": [],
   "source": [
    "df.to_csv(\"../data/cryptobriefing_2025_2019_04_03.csv\", index=False)"
   ]
  }
 ],
 "metadata": {
  "kernelspec": {
   "display_name": ".venv",
   "language": "python",
   "name": "python3"
  },
  "language_info": {
   "codemirror_mode": {
    "name": "ipython",
    "version": 3
   },
   "file_extension": ".py",
   "mimetype": "text/x-python",
   "name": "python",
   "nbconvert_exporter": "python",
   "pygments_lexer": "ipython3",
   "version": "3.10.6"
  }
 },
 "nbformat": 4,
 "nbformat_minor": 5
}
