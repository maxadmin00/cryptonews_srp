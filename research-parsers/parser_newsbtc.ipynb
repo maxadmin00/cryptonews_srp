{
 "cells": [
  {
   "cell_type": "code",
   "execution_count": null,
   "id": "6c6d5903",
   "metadata": {},
   "outputs": [],
   "source": [
    "%pip install selenium\n",
    "%pip install beautifulsoup4\n",
    "%pip install pandas"
   ]
  },
  {
   "cell_type": "code",
   "execution_count": null,
   "id": "7335b158",
   "metadata": {},
   "outputs": [],
   "source": [
    "from selenium import webdriver\n",
    "from datetime import timedelta, datetime\n",
    "from bs4 import BeautifulSoup\n",
    "import pandas as pd\n",
    "from selenium.webdriver.common.by import By\n",
    "import time\n",
    "from selenium.webdriver.common.action_chains import ActionChains "
   ]
  },
  {
   "cell_type": "code",
   "execution_count": null,
   "id": "898b4e97",
   "metadata": {},
   "outputs": [],
   "source": [
    "driver = webdriver.Chrome()\n",
    "driver.get('https://www.newsbtc.com/?s=')\n",
    "data = []\n",
    "\n",
    "while True:\n",
    "    html = driver.page_source\n",
    "    soup = BeautifulSoup(html)\n",
    "\n",
    "    containers = soup.find_all(\"article\")\n",
    "\n",
    "    for i, d in enumerate(containers):\n",
    "        pict = d.find(\"div\", attrs={\"class\": \"jeg_thumb\"})\n",
    "        href = pict.find(\"a\")['href']\n",
    "        if href is None:\n",
    "            href = \"NOT FOUND\"\n",
    "        \n",
    "        postblock = d.find(\"div\", attrs={\"class\": \"jeg_postblock_content\"})\n",
    "        metadata = postblock.find('div', attrs={\"class\": \"jeg_post_meta\"})\n",
    "        #if postblock is None:\n",
    "            #header_text = \"NOT FOUND\"\n",
    "            #continue\n",
    "        brief = postblock.find('div', attrs={\"class\": \"jeg_post_excerpt\"}).find('p').text.strip()\n",
    "        header_text = postblock.find('h3').text.strip()\n",
    "        dttime = metadata.find('div', attrs={\"class\": \"jeg_meta_date\"}).find('a').find('i').text.strip()\n",
    "\n",
    "        author = metadata.find('div', attrs={\"class\": \"jeg_meta_author\"}).find('a').text.strip()\n",
    "\n",
    "        print(i, header_text, dttime, href, brief, author)\n",
    "        data.append((header_text, dttime, href, brief, author)) \n",
    "\n",
    "        #data.append((header, timedata, ref))\n",
    "        #print(f\"Found header: {header}, date: {timedata}, ref: {ref}\")\n",
    "\n",
    "    button = driver.find_element(By.XPATH, '/html/body/div[2]/div[5]/div/div[1]/div/div/div[2]/div[1]/div/div[2]/div/div[2]/a[3]')\n",
    "    location = button.location\n",
    "    size = button.size\n",
    "    w, h = size['width'], size['height']\n",
    "    driver.execute_script(f\"window.scrollTo(0, {h});\")\n",
    "    driver.execute_script(\"arguments[0].click();\", button)\n",
    "    time.sleep(1)\n",
    "\n"
   ]
  },
  {
   "cell_type": "code",
   "execution_count": null,
   "id": "d171b906",
   "metadata": {},
   "outputs": [],
   "source": [
    "df = pd.DataFrame(data, columns = ['header', 'date', 'link', 'brief', 'author'])\n",
    "df = df.drop_duplicates()\n",
    "df.head()"
   ]
  }
 ],
 "metadata": {
  "kernelspec": {
   "display_name": ".venv",
   "language": "python",
   "name": "python3"
  },
  "language_info": {
   "codemirror_mode": {
    "name": "ipython",
    "version": 3
   },
   "file_extension": ".py",
   "mimetype": "text/x-python",
   "name": "python",
   "nbconvert_exporter": "python",
   "pygments_lexer": "ipython3",
   "version": "3.10.6"
  }
 },
 "nbformat": 4,
 "nbformat_minor": 5
}
