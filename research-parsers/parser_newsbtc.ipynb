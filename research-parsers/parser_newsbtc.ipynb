{
 "cells": [
  {
   "cell_type": "code",
   "execution_count": null,
   "id": "6c6d5903",
   "metadata": {},
   "outputs": [],
   "source": [
    "%pip install selenium\n",
    "%pip install beautifulsoup4\n",
    "%pip install pandas"
   ]
  },
  {
   "cell_type": "code",
   "execution_count": null,
   "id": "7335b158",
   "metadata": {},
   "outputs": [],
   "source": [
    "from selenium import webdriver\n",
    "from datetime import timedelta, datetime\n",
    "from bs4 import BeautifulSoup\n",
    "import pandas as pd\n",
    "from selenium.webdriver.common.by import By\n",
    "import time\n",
    "from selenium.webdriver.common.action_chains import ActionChains "
   ]
  },
  {
   "cell_type": "code",
   "execution_count": 8,
   "id": "898b4e97",
   "metadata": {},
   "outputs": [
    {
     "ename": "NoSuchElementException",
     "evalue": "Message: no such element: Unable to locate element: {\"method\":\"xpath\",\"selector\":\"/html/body/div[2]/div[5]/div/div[1]/div/div/div[2]/div[1]/div/div[2]/div/div[2]/a[3]\"}\n  (Session info: chrome=136.0.7103.93); For documentation on this error, please visit: https://www.selenium.dev/documentation/webdriver/troubleshooting/errors#no-such-element-exception\nStacktrace:\n\tGetHandleVerifier [0x00007FF60478CF25+75717]\n\tGetHandleVerifier [0x00007FF60478CF80+75808]\n\t(No symbol) [0x00007FF604558F9A]\n\t(No symbol) [0x00007FF6045AF4C6]\n\t(No symbol) [0x00007FF6045AF77C]\n\t(No symbol) [0x00007FF604602577]\n\t(No symbol) [0x00007FF6045D73BF]\n\t(No symbol) [0x00007FF6045FF39C]\n\t(No symbol) [0x00007FF6045D7153]\n\t(No symbol) [0x00007FF6045A0421]\n\t(No symbol) [0x00007FF6045A11B3]\n\tGetHandleVerifier [0x00007FF604A8D6FD+3223453]\n\tGetHandleVerifier [0x00007FF604A87CA2+3200322]\n\tGetHandleVerifier [0x00007FF604AA5AD3+3322739]\n\tGetHandleVerifier [0x00007FF6047A69FA+180890]\n\tGetHandleVerifier [0x00007FF6047AE0FF+211359]\n\tGetHandleVerifier [0x00007FF604795274+109332]\n\tGetHandleVerifier [0x00007FF604795422+109762]\n\tGetHandleVerifier [0x00007FF60477BA39+4825]\n\tBaseThreadInitThunk [0x00007FFBADB87374+20]\n\tRtlUserThreadStart [0x00007FFBAFA1CC91+33]\n",
     "output_type": "error",
     "traceback": [
      "\u001b[1;31m---------------------------------------------------------------------------\u001b[0m",
      "\u001b[1;31mNoSuchElementException\u001b[0m                    Traceback (most recent call last)",
      "Cell \u001b[1;32mIn[8], line 34\u001b[0m\n\u001b[0;32m     29\u001b[0m     data\u001b[38;5;241m.\u001b[39mappend((header_text, dttime, href, brief, author)) \n\u001b[0;32m     31\u001b[0m     \u001b[38;5;66;03m#data.append((header, timedata, ref))\u001b[39;00m\n\u001b[0;32m     32\u001b[0m     \u001b[38;5;66;03m#print(f\"Found header: {header}, date: {timedata}, ref: {ref}\")\u001b[39;00m\n\u001b[1;32m---> 34\u001b[0m button \u001b[38;5;241m=\u001b[39m \u001b[43mdriver\u001b[49m\u001b[38;5;241;43m.\u001b[39;49m\u001b[43mfind_element\u001b[49m\u001b[43m(\u001b[49m\u001b[43mBy\u001b[49m\u001b[38;5;241;43m.\u001b[39;49m\u001b[43mXPATH\u001b[49m\u001b[43m,\u001b[49m\u001b[43m \u001b[49m\u001b[38;5;124;43m'\u001b[39;49m\u001b[38;5;124;43m/html/body/div[2]/div[5]/div/div[1]/div/div/div[2]/div[1]/div/div[2]/div/div[2]/a[3]\u001b[39;49m\u001b[38;5;124;43m'\u001b[39;49m\u001b[43m)\u001b[49m\n\u001b[0;32m     35\u001b[0m location \u001b[38;5;241m=\u001b[39m button\u001b[38;5;241m.\u001b[39mlocation\n\u001b[0;32m     36\u001b[0m size \u001b[38;5;241m=\u001b[39m button\u001b[38;5;241m.\u001b[39msize\n",
      "File \u001b[1;32md:\\progs\\go\\nir_2025_true\\.venv\\lib\\site-packages\\selenium\\webdriver\\remote\\webdriver.py:898\u001b[0m, in \u001b[0;36mWebDriver.find_element\u001b[1;34m(self, by, value)\u001b[0m\n\u001b[0;32m    895\u001b[0m         \u001b[38;5;28;01mraise\u001b[39;00m NoSuchElementException(\u001b[38;5;124mf\u001b[39m\u001b[38;5;124m\"\u001b[39m\u001b[38;5;124mCannot locate relative element with: \u001b[39m\u001b[38;5;132;01m{\u001b[39;00mby\u001b[38;5;241m.\u001b[39mroot\u001b[38;5;132;01m}\u001b[39;00m\u001b[38;5;124m\"\u001b[39m)\n\u001b[0;32m    896\u001b[0m     \u001b[38;5;28;01mreturn\u001b[39;00m elements[\u001b[38;5;241m0\u001b[39m]\n\u001b[1;32m--> 898\u001b[0m \u001b[38;5;28;01mreturn\u001b[39;00m \u001b[38;5;28;43mself\u001b[39;49m\u001b[38;5;241;43m.\u001b[39;49m\u001b[43mexecute\u001b[49m\u001b[43m(\u001b[49m\u001b[43mCommand\u001b[49m\u001b[38;5;241;43m.\u001b[39;49m\u001b[43mFIND_ELEMENT\u001b[49m\u001b[43m,\u001b[49m\u001b[43m \u001b[49m\u001b[43m{\u001b[49m\u001b[38;5;124;43m\"\u001b[39;49m\u001b[38;5;124;43musing\u001b[39;49m\u001b[38;5;124;43m\"\u001b[39;49m\u001b[43m:\u001b[49m\u001b[43m \u001b[49m\u001b[43mby\u001b[49m\u001b[43m,\u001b[49m\u001b[43m \u001b[49m\u001b[38;5;124;43m\"\u001b[39;49m\u001b[38;5;124;43mvalue\u001b[39;49m\u001b[38;5;124;43m\"\u001b[39;49m\u001b[43m:\u001b[49m\u001b[43m \u001b[49m\u001b[43mvalue\u001b[49m\u001b[43m}\u001b[49m\u001b[43m)\u001b[49m[\u001b[38;5;124m\"\u001b[39m\u001b[38;5;124mvalue\u001b[39m\u001b[38;5;124m\"\u001b[39m]\n",
      "File \u001b[1;32md:\\progs\\go\\nir_2025_true\\.venv\\lib\\site-packages\\selenium\\webdriver\\remote\\webdriver.py:429\u001b[0m, in \u001b[0;36mWebDriver.execute\u001b[1;34m(self, driver_command, params)\u001b[0m\n\u001b[0;32m    427\u001b[0m response \u001b[38;5;241m=\u001b[39m \u001b[38;5;28mself\u001b[39m\u001b[38;5;241m.\u001b[39mcommand_executor\u001b[38;5;241m.\u001b[39mexecute(driver_command, params)\n\u001b[0;32m    428\u001b[0m \u001b[38;5;28;01mif\u001b[39;00m response:\n\u001b[1;32m--> 429\u001b[0m     \u001b[38;5;28;43mself\u001b[39;49m\u001b[38;5;241;43m.\u001b[39;49m\u001b[43merror_handler\u001b[49m\u001b[38;5;241;43m.\u001b[39;49m\u001b[43mcheck_response\u001b[49m\u001b[43m(\u001b[49m\u001b[43mresponse\u001b[49m\u001b[43m)\u001b[49m\n\u001b[0;32m    430\u001b[0m     response[\u001b[38;5;124m\"\u001b[39m\u001b[38;5;124mvalue\u001b[39m\u001b[38;5;124m\"\u001b[39m] \u001b[38;5;241m=\u001b[39m \u001b[38;5;28mself\u001b[39m\u001b[38;5;241m.\u001b[39m_unwrap_value(response\u001b[38;5;241m.\u001b[39mget(\u001b[38;5;124m\"\u001b[39m\u001b[38;5;124mvalue\u001b[39m\u001b[38;5;124m\"\u001b[39m, \u001b[38;5;28;01mNone\u001b[39;00m))\n\u001b[0;32m    431\u001b[0m     \u001b[38;5;28;01mreturn\u001b[39;00m response\n",
      "File \u001b[1;32md:\\progs\\go\\nir_2025_true\\.venv\\lib\\site-packages\\selenium\\webdriver\\remote\\errorhandler.py:232\u001b[0m, in \u001b[0;36mErrorHandler.check_response\u001b[1;34m(self, response)\u001b[0m\n\u001b[0;32m    230\u001b[0m         alert_text \u001b[38;5;241m=\u001b[39m value[\u001b[38;5;124m\"\u001b[39m\u001b[38;5;124malert\u001b[39m\u001b[38;5;124m\"\u001b[39m]\u001b[38;5;241m.\u001b[39mget(\u001b[38;5;124m\"\u001b[39m\u001b[38;5;124mtext\u001b[39m\u001b[38;5;124m\"\u001b[39m)\n\u001b[0;32m    231\u001b[0m     \u001b[38;5;28;01mraise\u001b[39;00m exception_class(message, screen, stacktrace, alert_text)  \u001b[38;5;66;03m# type: ignore[call-arg]  # mypy is not smart enough here\u001b[39;00m\n\u001b[1;32m--> 232\u001b[0m \u001b[38;5;28;01mraise\u001b[39;00m exception_class(message, screen, stacktrace)\n",
      "\u001b[1;31mNoSuchElementException\u001b[0m: Message: no such element: Unable to locate element: {\"method\":\"xpath\",\"selector\":\"/html/body/div[2]/div[5]/div/div[1]/div/div/div[2]/div[1]/div/div[2]/div/div[2]/a[3]\"}\n  (Session info: chrome=136.0.7103.93); For documentation on this error, please visit: https://www.selenium.dev/documentation/webdriver/troubleshooting/errors#no-such-element-exception\nStacktrace:\n\tGetHandleVerifier [0x00007FF60478CF25+75717]\n\tGetHandleVerifier [0x00007FF60478CF80+75808]\n\t(No symbol) [0x00007FF604558F9A]\n\t(No symbol) [0x00007FF6045AF4C6]\n\t(No symbol) [0x00007FF6045AF77C]\n\t(No symbol) [0x00007FF604602577]\n\t(No symbol) [0x00007FF6045D73BF]\n\t(No symbol) [0x00007FF6045FF39C]\n\t(No symbol) [0x00007FF6045D7153]\n\t(No symbol) [0x00007FF6045A0421]\n\t(No symbol) [0x00007FF6045A11B3]\n\tGetHandleVerifier [0x00007FF604A8D6FD+3223453]\n\tGetHandleVerifier [0x00007FF604A87CA2+3200322]\n\tGetHandleVerifier [0x00007FF604AA5AD3+3322739]\n\tGetHandleVerifier [0x00007FF6047A69FA+180890]\n\tGetHandleVerifier [0x00007FF6047AE0FF+211359]\n\tGetHandleVerifier [0x00007FF604795274+109332]\n\tGetHandleVerifier [0x00007FF604795422+109762]\n\tGetHandleVerifier [0x00007FF60477BA39+4825]\n\tBaseThreadInitThunk [0x00007FFBADB87374+20]\n\tRtlUserThreadStart [0x00007FFBAFA1CC91+33]\n"
     ]
    }
   ],
   "source": [
    "driver = webdriver.Chrome()\n",
    "driver.get('https://www.newsbtc.com/?s=')\n",
    "data = []\n",
    "\n",
    "while True:\n",
    "    html = driver.page_source\n",
    "    soup = BeautifulSoup(html)\n",
    "\n",
    "    containers = soup.find_all(\"article\")\n",
    "\n",
    "    for i, d in enumerate(containers):\n",
    "        pict = d.find(\"div\", attrs={\"class\": \"jeg_thumb\"})\n",
    "        href = pict.find(\"a\")['href']\n",
    "        if href is None:\n",
    "            href = \"NOT FOUND\"\n",
    "        \n",
    "        postblock = d.find(\"div\", attrs={\"class\": \"jeg_postblock_content\"})\n",
    "        metadata = postblock.find('div', attrs={\"class\": \"jeg_post_meta\"})\n",
    "        #if postblock is None:\n",
    "            #header_text = \"NOT FOUND\"\n",
    "            #continue\n",
    "        brief = postblock.find('div', attrs={\"class\": \"jeg_post_excerpt\"}).find('p').text.strip()\n",
    "        header_text = postblock.find('h3').text.strip()\n",
    "        dttime = metadata.find('div', attrs={\"class\": \"jeg_meta_date\"}).find('a').find('i').text.strip()\n",
    "\n",
    "        author = metadata.find('div', attrs={\"class\": \"jeg_meta_author\"}).find('a').text.strip()\n",
    "\n",
    "        print(i, header_text, dttime, href, brief, author)\n",
    "        data.append((header_text, dttime, href, brief, author)) \n",
    "\n",
    "        #data.append((header, timedata, ref))\n",
    "        #print(f\"Found header: {header}, date: {timedata}, ref: {ref}\")\n",
    "\n",
    "    button = driver.find_element(By.XPATH, '/html/body/div[2]/div[5]/div/div[1]/div/div/div[2]/div[1]/div/div[2]/div/div[2]/a[3]')\n",
    "    location = button.location\n",
    "    size = button.size\n",
    "    w, h = size['width'], size['height']\n",
    "    driver.execute_script(f\"window.scrollTo(0, {h});\")\n",
    "    driver.execute_script(\"arguments[0].click();\", button)\n",
    "    time.sleep(1)\n",
    "\n"
   ]
  },
  {
   "cell_type": "code",
   "execution_count": null,
   "id": "d171b906",
   "metadata": {},
   "outputs": [],
   "source": [
    "df = pd.DataFrame(data, columns = ['header', 'date', 'link', 'brief', 'author'])\n",
    "df = df.drop_duplicates()\n",
    "df.head()"
   ]
  }
 ],
 "metadata": {
  "kernelspec": {
   "display_name": ".venv",
   "language": "python",
   "name": "python3"
  },
  "language_info": {
   "codemirror_mode": {
    "name": "ipython",
    "version": 3
   },
   "file_extension": ".py",
   "mimetype": "text/x-python",
   "name": "python",
   "nbconvert_exporter": "python",
   "pygments_lexer": "ipython3",
   "version": "3.10.6"
  }
 },
 "nbformat": 4,
 "nbformat_minor": 5
}
