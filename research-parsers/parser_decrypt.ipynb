{
 "cells": [
  {
   "cell_type": "code",
   "execution_count": null,
   "id": "927ca98b",
   "metadata": {},
   "outputs": [],
   "source": [
    "%pip install selenium\n",
    "%pip install beautifulsoup4\n",
    "%pip install pandas"
   ]
  },
  {
   "cell_type": "code",
   "execution_count": null,
   "id": "68d50c23",
   "metadata": {},
   "outputs": [],
   "source": [
    "from selenium import webdriver\n",
    "from datetime import timedelta, datetime\n",
    "from bs4 import BeautifulSoup\n",
    "import pandas as pd\n",
    "from selenium.webdriver.common.by import By\n",
    "import time\n",
    "from selenium.webdriver.common.action_chains import ActionChains \n",
    "import re"
   ]
  },
  {
   "cell_type": "markdown",
   "id": "88e1a4b2",
   "metadata": {},
   "source": [
    "## Сбор данных"
   ]
  },
  {
   "cell_type": "code",
   "execution_count": null,
   "id": "1ce2d7ce",
   "metadata": {},
   "outputs": [],
   "source": [
    "driver = webdriver.Chrome()\n",
    "driver.get('https://decrypt.co/news-explorer')\n",
    "#html = driver.page_source\n",
    "#soup = BeautifulSoup(html)\n",
    "data = []\n",
    "\n",
    "SCROLL_PAUSE_TIME = 5\n",
    "\n",
    "# Get scroll height\n",
    "last_height = 0\n",
    "\n",
    "'''while True:\n",
    "    # Scroll down to bottom\n",
    "    button = driver.find_element(By.XPATH, '//*[@id=\"ajax-load-more\"]/div[2]/button')\n",
    "    location = button.location\n",
    "    size = button.size\n",
    "    w, h = size['width'], size['height']\n",
    "    print(h)\n",
    "    driver.execute_script(f\"window.scrollTo(0, {h});\")\n",
    "\n",
    "    # Wait to load page\n",
    "    time.sleep(SCROLL_PAUSE_TIME)\n",
    "\n",
    "    # Calculate new scroll height and compare with last scroll height\n",
    "    new_height = h\n",
    "    if new_height == last_height:\n",
    "        break\n",
    "    last_height = new_height'''\n",
    "\n",
    "last_i = 0\n",
    "\n",
    "\n",
    "while True:\n",
    "    html = driver.page_source\n",
    "    soup = BeautifulSoup(html)\n",
    "\n",
    "    #for a in soup.find_all('a', href=True):\n",
    "        #if len(re.findall(r\"(\\d+\\/)(\\S*)\",a['href'])) or len(re.findall(r\"(resources\\/)(\\S*)\",a['href'])):\n",
    "            #print(\"Found the URL:\", a['href'])\n",
    "            #pass\n",
    "    \n",
    "    containers = soup.find_all(\"div\",attrs={\"class\":\"flex gap-2 flex-col py-5 px-4 pb-3 md:p-6 md:pb-4 border-[1px] border-solid border-b-0 undefined relative\"})\n",
    "    for i, d in enumerate(containers):\n",
    "        header = d.find(\"h4\", {\"class\": \"font-akzidenz-grotesk font-medium text-base md:text-xl degen-alley-dark:text-white\"})\n",
    "        if header is None:\n",
    "            header = \"NOT FOUND\"\n",
    "        else:\n",
    "            header = header.text.strip()\n",
    "\n",
    "        timedata = d.find(\"div\", {\"class\": \"text-sm text-neutral-700 degen-alley-dark:text-neutral-200\"})\n",
    "        if timedata is None:\n",
    "            timedata = \"NOT FOUND\"\n",
    "        else:\n",
    "            timedata = timedata.text.strip()\n",
    "\n",
    "        ref = d.find(\"a\", {\"class\": \"py-2 text-center space-x-2 font-akzidenz-grotesk font-medium text-sm leading-none\"})\n",
    "        if ref is None:\n",
    "            ref = \"NOT FOUND\"\n",
    "        else:\n",
    "            ref = ref['href'].strip()\n",
    "\n",
    "        #if (header, timedata, ref) in data:\n",
    "        #    continue\n",
    "        if (header, timedata, ref) in data:\n",
    "            continue\n",
    "        \n",
    "        data.append((header, timedata, ref))\n",
    "        print(f\"Found header: {header}, date: {timedata}, ref: {ref}\")\n",
    "        #time_data = soup.find_all(\"div\",attrs={\"class\":\"post-loop__date\"})   \n",
    "    #print(len(data))\n",
    "    button = driver.find_element(By.XPATH, '//*[@id=\"__next\"]/div/div[1]/div/main/div[4]/div/div[1]/div/button')\n",
    "    location = button.location\n",
    "    size = button.size\n",
    "    w, h = size['width'], size['height']\n",
    "    driver.execute_script(f\"window.scrollTo(0, {h});\")\n",
    "    driver.execute_script(\"arguments[0].click();\", button)\n",
    "    time.sleep(1)\n"
   ]
  },
  {
   "cell_type": "markdown",
   "id": "e8cc3871",
   "metadata": {},
   "source": [
    "## Обработка данных"
   ]
  },
  {
   "cell_type": "code",
   "execution_count": null,
   "id": "1c1b59bf",
   "metadata": {},
   "outputs": [],
   "source": [
    "df = pd.DataFrame(data, columns = ['header', 'date', 'href'])\n",
    "df = df.drop_duplicates()\n",
    "df.head()"
   ]
  },
  {
   "cell_type": "code",
   "execution_count": null,
   "id": "5d3e2df6",
   "metadata": {},
   "outputs": [],
   "source": [
    "df.to_csv(\"../data/decrypt.csv\")"
   ]
  },
  {
   "cell_type": "code",
   "execution_count": null,
   "id": "2ecbb272",
   "metadata": {},
   "outputs": [],
   "source": [
    "df.tail()"
   ]
  },
  {
   "cell_type": "markdown",
   "id": "a1b441ea",
   "metadata": {},
   "source": [
    "## Чтение данных из файла"
   ]
  },
  {
   "cell_type": "code",
   "execution_count": null,
   "id": "6733cb43",
   "metadata": {},
   "outputs": [],
   "source": [
    "df = pd.read_csv(\"../data/decrypt.csv\")"
   ]
  }
 ],
 "metadata": {
  "kernelspec": {
   "display_name": ".venv",
   "language": "python",
   "name": "python3"
  },
  "language_info": {
   "codemirror_mode": {
    "name": "ipython",
    "version": 3
   },
   "file_extension": ".py",
   "mimetype": "text/x-python",
   "name": "python",
   "nbconvert_exporter": "python",
   "pygments_lexer": "ipython3",
   "version": "3.10.6"
  }
 },
 "nbformat": 4,
 "nbformat_minor": 5
}
